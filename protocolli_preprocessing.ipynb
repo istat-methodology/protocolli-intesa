{
 "cells": [
  {
   "cell_type": "code",
   "execution_count": null,
   "id": "6bc6ea31",
   "metadata": {},
   "outputs": [],
   "source": [
    "import pandas as pd"
   ]
  },
  {
   "cell_type": "markdown",
   "id": "3ae48ec3",
   "metadata": {},
   "source": [
    "Read Comuni"
   ]
  },
  {
   "cell_type": "code",
   "execution_count": null,
   "id": "0a730577",
   "metadata": {},
   "outputs": [],
   "source": [
    "df_comuni = pd.read_csv('classification/cls_comuni.csv', encoding=\"latin-1\", sep=';')"
   ]
  },
  {
   "cell_type": "code",
   "execution_count": null,
   "id": "d858962e",
   "metadata": {},
   "outputs": [],
   "source": [
    "comuni_columns_to_keep = [\n",
    "    'Codice Regione', \n",
    "    'Codice Provincia', \n",
    "    'Codice Comune formato alfanumerico', \n",
    "    'Denominazione in italiano',\n",
    "    'Denominazione Regione']\n",
    "\n",
    "# Mapping: vecchio nome -> nuovo nome\n",
    "comuni_rename_map = {\n",
    "    'Codice Comune formato alfanumerico': 'cod_com',\n",
    "    'Denominazione in italiano': 'denominazione',\n",
    "    'Codice Provincia': 'cod_prov',\n",
    "    'Codice Regione': 'cod_reg',\n",
    "    'Denominazione Regione': 'regione',\n",
    "}\n",
    "\n",
    "df_comuni = df_comuni[comuni_columns_to_keep].rename(columns=comuni_rename_map)\n",
    "\n",
    "# Converti i nomi delle colonne in minuscolo\n",
    "df_comuni.columns = df_comuni.columns.str.lower()"
   ]
  },
  {
   "cell_type": "code",
   "execution_count": null,
   "id": "f5fe5071",
   "metadata": {},
   "outputs": [],
   "source": [
    "df_comuni['regione'].unique()"
   ]
  },
  {
   "cell_type": "markdown",
   "id": "0d6601c8",
   "metadata": {},
   "source": [
    "Read RUNTS"
   ]
  },
  {
   "cell_type": "code",
   "execution_count": null,
   "id": "1e3cbaf5",
   "metadata": {},
   "outputs": [],
   "source": [
    "df_runts = pd.read_csv('classification/cls_runts.csv', \n",
    "                       encoding=\"latin-1\", \n",
    "                       sep=';',  \n",
    "                       dtype={\"Codice_Provincia\": str, \"Codice_Regione\": str})"
   ]
  },
  {
   "cell_type": "code",
   "execution_count": null,
   "id": "2502190b",
   "metadata": {},
   "outputs": [],
   "source": [
    "runts_columns_to_keep = [\n",
    "    'Codice_Fiscale',\n",
    "    'Repertorio', \n",
    "    'Denominazione',\n",
    "    'Sezione',\n",
    "    'Cognome',\n",
    "    'Nome',\n",
    "    'Rete',\n",
    "    'Comune',\n",
    "    'Codice_Provincia',\n",
    "    'Provincia',\n",
    "\t'Codice_Regione',\n",
    "    'Denominazione_Regione'\n",
    "    ]\n",
    "\n",
    "# Mapping: vecchio nome -> nuovo nome\n",
    "runts_rename_map = {\n",
    "    'Codice_Regione': 'cod_reg',\n",
    "    'Codice_Provincia': 'cod_prov',\n",
    "    'Denominazione_Regione': 'regione'\n",
    "}\n",
    "\n",
    "df_runts = df_runts[runts_columns_to_keep].rename(columns=runts_rename_map)\n",
    "\n",
    "# Converti i nomi delle colonne in minuscolo\n",
    "df_runts.columns = df_runts.columns.str.lower()\n"
   ]
  },
  {
   "cell_type": "code",
   "execution_count": null,
   "id": "b5f7b62f",
   "metadata": {},
   "outputs": [],
   "source": [
    "df_runts.head(50).to_csv('runts_head.csv', index=False)"
   ]
  },
  {
   "cell_type": "markdown",
   "id": "4ea18d07",
   "metadata": {},
   "source": [
    "Read GINO microdata"
   ]
  },
  {
   "cell_type": "code",
   "execution_count": null,
   "id": "d2ab89a0",
   "metadata": {},
   "outputs": [],
   "source": [
    "df_gino = pd.read_excel('protocolli_microdata.xlsx')"
   ]
  },
  {
   "cell_type": "code",
   "execution_count": null,
   "id": "248bec87",
   "metadata": {},
   "outputs": [],
   "source": [
    "df_gino.columns"
   ]
  },
  {
   "cell_type": "code",
   "execution_count": null,
   "id": "a7e8e39b",
   "metadata": {},
   "outputs": [],
   "source": [
    "gino_columns_to_keep = [\n",
    "    'ID_RISPONDENTE_RILEV',\n",
    "    'PROGRESSIVO_QUEST',\n",
    "    'REGIONE',\n",
    "    'CODICE_CAV',\n",
    "    'NOME_CAV',\n",
    "    'TITOLO_DOC',\n",
    "    'AMBITO',\n",
    "    'SOGGETTI',\n",
    "    'TIPI_SOGGETTI',\n",
    "    'ATTORI',\n",
    "    'MONITORAGGIO',\n",
    "    'TIPO_RETE']\n",
    "\n",
    "# Mapping: vecchio nome -> nuovo nome\n",
    "gino_rename_map = {\n",
    "    'TIPI_SOGGETTI': 'tipo_soggetto'\n",
    "}\n",
    "\n",
    "df_gino = df_gino[gino_columns_to_keep].rename(columns=gino_rename_map)\n",
    "\n",
    "# Converti i nomi delle colonne in minuscolo\n",
    "df_gino.columns = df_gino.columns.str.lower()\n",
    "\n",
    "# Usando replace con regex: toglie \"Regione\" solo se è all'inizio\n",
    "df_gino[\"regione\"] = df_gino[\"regione\"].str.replace(r\"^Regione\\s*\", \"\", regex=True)\n",
    "\n",
    "# Rimuove eventuali spazi bianchi iniziali e finali dalla colonna 'tipo_soggetto'\n",
    "df_gino[\"tipo_soggetto\"] = df_gino[\"tipo_soggetto\"].str.strip()"
   ]
  },
  {
   "cell_type": "markdown",
   "id": "3155f221",
   "metadata": {},
   "source": [
    "REGOLA: Elimina dal dataset gino le regioni con una sola occorrenza"
   ]
  },
  {
   "cell_type": "code",
   "execution_count": null,
   "id": "eaf8f63a",
   "metadata": {},
   "outputs": [],
   "source": [
    "# Conta le occorrenze di ogni regione\n",
    "df_gino[\"regione_count\"] = df_gino.groupby(\"regione\")[\"regione\"].transform(\"count\")\n",
    "\n",
    "# Filtra: tieni solo le righe dove la regione compare più di una volta\n",
    "df_gino = df_gino[df_gino[\"regione_count\"] > 1]\n",
    "\n",
    "# (opzionale) elimina la colonna temporanea\n",
    "df_gino = df_gino.drop(columns=[\"regione_count\"])"
   ]
  },
  {
   "cell_type": "markdown",
   "id": "3ddbf0d9",
   "metadata": {},
   "source": [
    "REGOLA: Elimina le convenzioni"
   ]
  },
  {
   "cell_type": "code",
   "execution_count": null,
   "id": "ee713d49",
   "metadata": {},
   "outputs": [],
   "source": [
    "# Porta tutto il campo 'titolo_doc' a minuscolo\n",
    "df_gino[\"titolo_doc\"] = df_gino[\"titolo_doc\"].str.lower()\n",
    "\n",
    "parole = [\"convenzione\", \"coinvenzione\", \"conenzione\"]\n",
    "pattern = \"|\".join(parole)\n",
    "\n",
    "df_gino = df_gino[~df_gino[\"titolo_doc\"].str.contains(pattern, na=False, case=False, regex=True)]"
   ]
  },
  {
   "cell_type": "code",
   "execution_count": null,
   "id": "1987d700",
   "metadata": {},
   "outputs": [],
   "source": [
    "df_gino['regione'].value_counts()"
   ]
  },
  {
   "cell_type": "code",
   "execution_count": null,
   "id": "a11abae8",
   "metadata": {},
   "outputs": [],
   "source": [
    "df_gino.head(50)"
   ]
  },
  {
   "cell_type": "code",
   "execution_count": null,
   "id": "952e1cc2",
   "metadata": {},
   "outputs": [],
   "source": [
    "df_gino['tipo_soggetto'].value_counts()"
   ]
  },
  {
   "cell_type": "markdown",
   "id": "b0f679a0",
   "metadata": {},
   "source": [
    "ATTORI: pre-processing  "
   ]
  },
  {
   "cell_type": "code",
   "execution_count": null,
   "id": "11adefd0",
   "metadata": {},
   "outputs": [],
   "source": [
    "# Preprocessing e normalizzazione campo 'attori'\n",
    "df_gino[\"attori\"] = (\n",
    "    df_gino[\"attori\"]\n",
    "    .fillna(\"\")                               # sostituisce NaN con stringa vuota\n",
    "    .str.replace(r\"^\\.$\", \"\", regex=True)     # elimina i valori solo \".\"\n",
    "    .str.replace(\";\", \",\")                    # uniforma separatori\n",
    "    .str.lower()                              # tutto minuscolo\n",
    "    .str.strip()\n",
    ")\n",
    "\n",
    "# Esplode in più righe: un attore per riga\n",
    "df_attori = (\n",
    "    df_gino.assign(attore=df_gino[\"attori\"].str.split(\",\"))\n",
    "      .explode(\"attore\")\n",
    ")\n",
    "\n",
    "# Pulisce spazi e filtra vuoti\n",
    "df_attori[\"attore\"] = df_attori[\"attore\"].str.strip()\n",
    "df_attori = df_attori[df_attori[\"attore\"] != \"\"].reset_index(drop=True)\n",
    "\n",
    "# Ora hai un DataFrame con una colonna 'attore' pronta per il matching\n",
    "df_attori.head(50)"
   ]
  }
 ],
 "metadata": {
  "kernelspec": {
   "display_name": "Python 3",
   "language": "python",
   "name": "python3"
  },
  "language_info": {
   "codemirror_mode": {
    "name": "ipython",
    "version": 3
   },
   "file_extension": ".py",
   "mimetype": "text/x-python",
   "name": "python",
   "nbconvert_exporter": "python",
   "pygments_lexer": "ipython3",
   "version": "3.12.2"
  }
 },
 "nbformat": 4,
 "nbformat_minor": 5
}
